{
 "cells": [
  {
   "cell_type": "markdown",
   "id": "b6e0603b",
   "metadata": {},
   "source": [
    "# JPX Tokyo Stock Exchange Prediction\n",
    "## Problem context\n",
    "Success in any financial market requires one to identify solid investments. When a stock or derivative is undervalued, it makes sense to buy. If it's overvalued, perhaps it's time to sell. While these finance decisions were historically made manually by professionals, technology has ushered in new opportunities for retail investors. Data scientists, specifically, may be interested to explore quantitative trading, where decisions are executed programmatically based on predictions from trained models. In this project, for JPX more than 2000 stocks, the best performance portfolios will be generated. \n",
    "\n",
    "\n",
    "## Criteria for success\n",
    "Success this project = getting 10 best performance stocks in a singal day\n",
    "\n",
    "## Scope of solution space\n",
    "getting 10 best performance stocks in a singal day\n",
    "\n",
    "## Constraints\n",
    "1. models would be hard to build. And that failure would cause final failure\n",
    "2. the data is huge. that would crush the whole project\n",
    "\n",
    "## Stakeholders\n",
    "all investors\n",
    "\n",
    "## Data sources\n",
    "data from https://www.kaggle.com/competitions/jpx-tokyo-stock-exchange-prediction/data"
   ]
  },
  {
   "cell_type": "code",
   "execution_count": null,
   "id": "64bcff4b",
   "metadata": {},
   "outputs": [],
   "source": []
  }
 ],
 "metadata": {
  "kernelspec": {
   "display_name": "Python 3 (ipykernel)",
   "language": "python",
   "name": "python3"
  },
  "language_info": {
   "codemirror_mode": {
    "name": "ipython",
    "version": 3
   },
   "file_extension": ".py",
   "mimetype": "text/x-python",
   "name": "python",
   "nbconvert_exporter": "python",
   "pygments_lexer": "ipython3",
   "version": "3.9.7"
  }
 },
 "nbformat": 4,
 "nbformat_minor": 5
}
