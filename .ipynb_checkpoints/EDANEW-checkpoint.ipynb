{
 "cells": [
  {
   "cell_type": "code",
   "execution_count": 28,
   "id": "8092b3da",
   "metadata": {},
   "outputs": [],
   "source": [
    "import numpy as np\n",
    "import pandas as pd\n",
    "from lightgbm import LGBMRegressor\n",
    "import optuna.integration.lightgbm as lgb\n",
    "import seaborn as sns\n",
    "import matplotlib.pyplot as plt\n",
    "import datetime\n",
    "import warnings\n",
    "\n",
    "from library.sb_utils import save_file\n",
    "warnings.filterwarnings(\"ignore\")"
   ]
  },
  {
   "cell_type": "markdown",
   "id": "a5c49daa",
   "metadata": {},
   "source": [
    "# Load Data"
   ]
  },
  {
   "cell_type": "code",
   "execution_count": 5,
   "id": "5a5a9b0a",
   "metadata": {},
   "outputs": [],
   "source": [
    "prices = pd.read_csv('./data/supplemental_files/stock_prices.csv', parse_dates=['Date'])"
   ]
  },
  {
   "cell_type": "markdown",
   "id": "3638d248",
   "metadata": {},
   "source": [
    "# EDA"
   ]
  },
  {
   "cell_type": "code",
   "execution_count": 6,
   "id": "20e00a95",
   "metadata": {},
   "outputs": [
    {
     "data": {
      "text/html": [
       "<div>\n",
       "<style scoped>\n",
       "    .dataframe tbody tr th:only-of-type {\n",
       "        vertical-align: middle;\n",
       "    }\n",
       "\n",
       "    .dataframe tbody tr th {\n",
       "        vertical-align: top;\n",
       "    }\n",
       "\n",
       "    .dataframe thead th {\n",
       "        text-align: right;\n",
       "    }\n",
       "</style>\n",
       "<table border=\"1\" class=\"dataframe\">\n",
       "  <thead>\n",
       "    <tr style=\"text-align: right;\">\n",
       "      <th></th>\n",
       "      <th>RowId</th>\n",
       "      <th>Date</th>\n",
       "      <th>SecuritiesCode</th>\n",
       "      <th>Open</th>\n",
       "      <th>High</th>\n",
       "      <th>Low</th>\n",
       "      <th>Close</th>\n",
       "      <th>Volume</th>\n",
       "      <th>AdjustmentFactor</th>\n",
       "      <th>ExpectedDividend</th>\n",
       "      <th>SupervisionFlag</th>\n",
       "      <th>Target</th>\n",
       "    </tr>\n",
       "  </thead>\n",
       "  <tbody>\n",
       "    <tr>\n",
       "      <th>0</th>\n",
       "      <td>20211206_1301</td>\n",
       "      <td>2021-12-06</td>\n",
       "      <td>1301</td>\n",
       "      <td>2982.0</td>\n",
       "      <td>2982.0</td>\n",
       "      <td>2965.0</td>\n",
       "      <td>2971.0</td>\n",
       "      <td>8900</td>\n",
       "      <td>1.0</td>\n",
       "      <td>NaN</td>\n",
       "      <td>False</td>\n",
       "      <td>-0.003263</td>\n",
       "    </tr>\n",
       "    <tr>\n",
       "      <th>1</th>\n",
       "      <td>20211206_1332</td>\n",
       "      <td>2021-12-06</td>\n",
       "      <td>1332</td>\n",
       "      <td>592.0</td>\n",
       "      <td>599.0</td>\n",
       "      <td>588.0</td>\n",
       "      <td>589.0</td>\n",
       "      <td>1360800</td>\n",
       "      <td>1.0</td>\n",
       "      <td>NaN</td>\n",
       "      <td>False</td>\n",
       "      <td>-0.008993</td>\n",
       "    </tr>\n",
       "    <tr>\n",
       "      <th>2</th>\n",
       "      <td>20211206_1333</td>\n",
       "      <td>2021-12-06</td>\n",
       "      <td>1333</td>\n",
       "      <td>2368.0</td>\n",
       "      <td>2388.0</td>\n",
       "      <td>2360.0</td>\n",
       "      <td>2377.0</td>\n",
       "      <td>125900</td>\n",
       "      <td>1.0</td>\n",
       "      <td>NaN</td>\n",
       "      <td>False</td>\n",
       "      <td>-0.009963</td>\n",
       "    </tr>\n",
       "    <tr>\n",
       "      <th>3</th>\n",
       "      <td>20211206_1375</td>\n",
       "      <td>2021-12-06</td>\n",
       "      <td>1375</td>\n",
       "      <td>1230.0</td>\n",
       "      <td>1239.0</td>\n",
       "      <td>1224.0</td>\n",
       "      <td>1224.0</td>\n",
       "      <td>81100</td>\n",
       "      <td>1.0</td>\n",
       "      <td>NaN</td>\n",
       "      <td>False</td>\n",
       "      <td>-0.015032</td>\n",
       "    </tr>\n",
       "    <tr>\n",
       "      <th>4</th>\n",
       "      <td>20211206_1376</td>\n",
       "      <td>2021-12-06</td>\n",
       "      <td>1376</td>\n",
       "      <td>1339.0</td>\n",
       "      <td>1372.0</td>\n",
       "      <td>1339.0</td>\n",
       "      <td>1351.0</td>\n",
       "      <td>6200</td>\n",
       "      <td>1.0</td>\n",
       "      <td>NaN</td>\n",
       "      <td>False</td>\n",
       "      <td>0.002867</td>\n",
       "    </tr>\n",
       "    <tr>\n",
       "      <th>5</th>\n",
       "      <td>20211206_1377</td>\n",
       "      <td>2021-12-06</td>\n",
       "      <td>1377</td>\n",
       "      <td>3185.0</td>\n",
       "      <td>3215.0</td>\n",
       "      <td>3180.0</td>\n",
       "      <td>3200.0</td>\n",
       "      <td>77000</td>\n",
       "      <td>1.0</td>\n",
       "      <td>NaN</td>\n",
       "      <td>False</td>\n",
       "      <td>0.003044</td>\n",
       "    </tr>\n",
       "    <tr>\n",
       "      <th>6</th>\n",
       "      <td>20211206_1379</td>\n",
       "      <td>2021-12-06</td>\n",
       "      <td>1379</td>\n",
       "      <td>1890.0</td>\n",
       "      <td>1898.0</td>\n",
       "      <td>1885.0</td>\n",
       "      <td>1889.0</td>\n",
       "      <td>48500</td>\n",
       "      <td>1.0</td>\n",
       "      <td>NaN</td>\n",
       "      <td>False</td>\n",
       "      <td>-0.009870</td>\n",
       "    </tr>\n",
       "    <tr>\n",
       "      <th>7</th>\n",
       "      <td>20211206_1381</td>\n",
       "      <td>2021-12-06</td>\n",
       "      <td>1381</td>\n",
       "      <td>3200.0</td>\n",
       "      <td>3200.0</td>\n",
       "      <td>3150.0</td>\n",
       "      <td>3150.0</td>\n",
       "      <td>1600</td>\n",
       "      <td>1.0</td>\n",
       "      <td>NaN</td>\n",
       "      <td>False</td>\n",
       "      <td>0.000000</td>\n",
       "    </tr>\n",
       "    <tr>\n",
       "      <th>8</th>\n",
       "      <td>20211206_1407</td>\n",
       "      <td>2021-12-06</td>\n",
       "      <td>1407</td>\n",
       "      <td>6100.0</td>\n",
       "      <td>6290.0</td>\n",
       "      <td>6010.0</td>\n",
       "      <td>6220.0</td>\n",
       "      <td>246700</td>\n",
       "      <td>1.0</td>\n",
       "      <td>NaN</td>\n",
       "      <td>False</td>\n",
       "      <td>-0.004732</td>\n",
       "    </tr>\n",
       "    <tr>\n",
       "      <th>9</th>\n",
       "      <td>20211206_1413</td>\n",
       "      <td>2021-12-06</td>\n",
       "      <td>1413</td>\n",
       "      <td>2185.0</td>\n",
       "      <td>2211.0</td>\n",
       "      <td>2181.0</td>\n",
       "      <td>2190.0</td>\n",
       "      <td>9200</td>\n",
       "      <td>1.0</td>\n",
       "      <td>NaN</td>\n",
       "      <td>False</td>\n",
       "      <td>0.002222</td>\n",
       "    </tr>\n",
       "  </tbody>\n",
       "</table>\n",
       "</div>"
      ],
      "text/plain": [
       "           RowId       Date  SecuritiesCode    Open    High     Low   Close  \\\n",
       "0  20211206_1301 2021-12-06            1301  2982.0  2982.0  2965.0  2971.0   \n",
       "1  20211206_1332 2021-12-06            1332   592.0   599.0   588.0   589.0   \n",
       "2  20211206_1333 2021-12-06            1333  2368.0  2388.0  2360.0  2377.0   \n",
       "3  20211206_1375 2021-12-06            1375  1230.0  1239.0  1224.0  1224.0   \n",
       "4  20211206_1376 2021-12-06            1376  1339.0  1372.0  1339.0  1351.0   \n",
       "5  20211206_1377 2021-12-06            1377  3185.0  3215.0  3180.0  3200.0   \n",
       "6  20211206_1379 2021-12-06            1379  1890.0  1898.0  1885.0  1889.0   \n",
       "7  20211206_1381 2021-12-06            1381  3200.0  3200.0  3150.0  3150.0   \n",
       "8  20211206_1407 2021-12-06            1407  6100.0  6290.0  6010.0  6220.0   \n",
       "9  20211206_1413 2021-12-06            1413  2185.0  2211.0  2181.0  2190.0   \n",
       "\n",
       "    Volume  AdjustmentFactor  ExpectedDividend  SupervisionFlag    Target  \n",
       "0     8900               1.0               NaN            False -0.003263  \n",
       "1  1360800               1.0               NaN            False -0.008993  \n",
       "2   125900               1.0               NaN            False -0.009963  \n",
       "3    81100               1.0               NaN            False -0.015032  \n",
       "4     6200               1.0               NaN            False  0.002867  \n",
       "5    77000               1.0               NaN            False  0.003044  \n",
       "6    48500               1.0               NaN            False -0.009870  \n",
       "7     1600               1.0               NaN            False  0.000000  \n",
       "8   246700               1.0               NaN            False -0.004732  \n",
       "9     9200               1.0               NaN            False  0.002222  "
      ]
     },
     "execution_count": 6,
     "metadata": {},
     "output_type": "execute_result"
    }
   ],
   "source": [
    "prices.head(10)"
   ]
  },
  {
   "cell_type": "markdown",
   "id": "7ea7ec4e",
   "metadata": {},
   "source": [
    "File Description The core file of interest, including the daily closing price for each stock and the target column. Following is column information recorded in stock_prices.csv:\n",
    "\n",
    "RowId: Unique ID of price records, the combination of Date and SecuritiesCode.\n",
    "\n",
    "Date: Trade date.\n",
    "\n",
    "SecuritiesCode: Local securities code.\n",
    "\n",
    "Open: First traded price on a day.\n",
    "\n",
    "High: Highest traded price on a day.\n",
    "\n",
    "Low: Lowest traded price on a day.\n",
    "\n",
    "Close: Last traded price on a day.\n",
    "\n",
    "Volume: Number of traded stocks on a day.\n",
    "\n",
    "AdjustmentFactor: Used to calculate theoretical price/volume when split/reverse-split happens (NOT including dividend/allotment of shares).\n",
    "\n",
    "ExpectedDividend: Expected dividend value for ex-right date. This value is recorded 2 business days before ex-dividend date.\n",
    "\n",
    "SupervisionFlag: Flag of securities under supervision and securities to be delisted, for more information, please see here.\n",
    "\n",
    "Target: Change ratio of adjusted closing price between t+2 and t+1 where t+0 is trade date."
   ]
  },
  {
   "cell_type": "markdown",
   "id": "9fa2fc50",
   "metadata": {},
   "source": [
    "# Check missing values"
   ]
  },
  {
   "cell_type": "code",
   "execution_count": 7,
   "id": "1e02415f",
   "metadata": {},
   "outputs": [
    {
     "data": {
      "text/plain": [
       "RowId                    0\n",
       "Date                     0\n",
       "SecuritiesCode           0\n",
       "Open                   591\n",
       "High                   591\n",
       "Low                    591\n",
       "Close                  591\n",
       "Volume                   0\n",
       "AdjustmentFactor         0\n",
       "ExpectedDividend    194037\n",
       "SupervisionFlag          0\n",
       "Target                   4\n",
       "dtype: int64"
      ]
     },
     "execution_count": 7,
     "metadata": {},
     "output_type": "execute_result"
    }
   ],
   "source": [
    "#checking number of missing values per column\n",
    "prices.isnull().sum()"
   ]
  },
  {
   "cell_type": "code",
   "execution_count": 12,
   "id": "56b9e2d1",
   "metadata": {},
   "outputs": [
    {
     "name": "stdout",
     "output_type": "stream",
     "text": [
      "True\n",
      "True\n",
      "True\n",
      "True\n"
     ]
    }
   ],
   "source": [
    "#checking missing values of 'open', 'high', 'low', 'close'\n",
    "#volume represents the total amount trade in a day. If there is no volume, it means there is no trade in that day, \n",
    "#and open, high, low, close price are null\n",
    "print((prices['Open'].isnull()==(prices['Volume']==0)).all())\n",
    "print((prices['High'].isnull()==(prices['Volume']==0)).all())\n",
    "print((prices['Low'].isnull()==(prices['Volume']==0)).all())\n",
    "print((prices['Close'].isnull()==(prices['Volume']==0)).all())"
   ]
  },
  {
   "cell_type": "code",
   "execution_count": 15,
   "id": "3b55fe05",
   "metadata": {},
   "outputs": [
    {
     "data": {
      "text/plain": [
       "2022-03-28    1404\n",
       "2021-12-27     327\n",
       "2022-02-22     130\n",
       "2022-04-25      43\n",
       "2022-01-26      34\n",
       "2022-02-15       7\n",
       "2022-03-15       5\n",
       "2021-12-15       3\n",
       "2022-01-17       2\n",
       "2022-03-10       1\n",
       "Name: Date, dtype: int64"
      ]
     },
     "execution_count": 15,
     "metadata": {},
     "output_type": "execute_result"
    }
   ],
   "source": [
    "#checking missing values of 'ExpectedDividend'\n",
    "#This value exists only on certain days. The value may be filled at the time of closing.\n",
    "prices[(~prices[\"ExpectedDividend\"].isnull())][\"Date\"].value_counts()"
   ]
  },
  {
   "cell_type": "code",
   "execution_count": 16,
   "id": "7974af2d",
   "metadata": {},
   "outputs": [
    {
     "data": {
      "text/plain": [
       "1413    94\n",
       "8806    95\n",
       "4493    98\n",
       "1376    98\n",
       "1377    98\n",
       "        ..\n",
       "9994    98\n",
       "9900    98\n",
       "9896    98\n",
       "9974    98\n",
       "6201    98\n",
       "Name: SecuritiesCode, Length: 2000, dtype: int64"
      ]
     },
     "execution_count": 16,
     "metadata": {},
     "output_type": "execute_result"
    }
   ],
   "source": [
    "#checking missing dates for each stock\n",
    "prices[\"SecuritiesCode\"].value_counts().sort_values()"
   ]
  },
  {
   "cell_type": "markdown",
   "id": "ca243571",
   "metadata": {},
   "source": [
    "So 1413 misses 4days, 8806 misses 3days"
   ]
  },
  {
   "cell_type": "code",
   "execution_count": 19,
   "id": "a0cbe302",
   "metadata": {},
   "outputs": [
    {
     "data": {
      "text/html": [
       "<div>\n",
       "<style scoped>\n",
       "    .dataframe tbody tr th:only-of-type {\n",
       "        vertical-align: middle;\n",
       "    }\n",
       "\n",
       "    .dataframe tbody tr th {\n",
       "        vertical-align: top;\n",
       "    }\n",
       "\n",
       "    .dataframe thead th {\n",
       "        text-align: right;\n",
       "    }\n",
       "</style>\n",
       "<table border=\"1\" class=\"dataframe\">\n",
       "  <thead>\n",
       "    <tr style=\"text-align: right;\">\n",
       "      <th>SecuritiesCode</th>\n",
       "      <th>1413</th>\n",
       "      <th>8806</th>\n",
       "    </tr>\n",
       "    <tr>\n",
       "      <th>Date</th>\n",
       "      <th></th>\n",
       "      <th></th>\n",
       "    </tr>\n",
       "  </thead>\n",
       "  <tbody>\n",
       "    <tr>\n",
       "      <th>2022-04-15</th>\n",
       "      <td>27900.0</td>\n",
       "      <td>68500.0</td>\n",
       "    </tr>\n",
       "    <tr>\n",
       "      <th>2022-04-18</th>\n",
       "      <td>54700.0</td>\n",
       "      <td>49700.0</td>\n",
       "    </tr>\n",
       "    <tr>\n",
       "      <th>2022-04-19</th>\n",
       "      <td>38900.0</td>\n",
       "      <td>76000.0</td>\n",
       "    </tr>\n",
       "    <tr>\n",
       "      <th>2022-04-20</th>\n",
       "      <td>33600.0</td>\n",
       "      <td>74900.0</td>\n",
       "    </tr>\n",
       "    <tr>\n",
       "      <th>2022-04-21</th>\n",
       "      <td>50100.0</td>\n",
       "      <td>113700.0</td>\n",
       "    </tr>\n",
       "    <tr>\n",
       "      <th>2022-04-22</th>\n",
       "      <td>114700.0</td>\n",
       "      <td>12200.0</td>\n",
       "    </tr>\n",
       "    <tr>\n",
       "      <th>2022-04-25</th>\n",
       "      <td>NaN</td>\n",
       "      <td>104400.0</td>\n",
       "    </tr>\n",
       "    <tr>\n",
       "      <th>2022-04-26</th>\n",
       "      <td>NaN</td>\n",
       "      <td>NaN</td>\n",
       "    </tr>\n",
       "    <tr>\n",
       "      <th>2022-04-27</th>\n",
       "      <td>NaN</td>\n",
       "      <td>NaN</td>\n",
       "    </tr>\n",
       "    <tr>\n",
       "      <th>2022-04-28</th>\n",
       "      <td>NaN</td>\n",
       "      <td>NaN</td>\n",
       "    </tr>\n",
       "  </tbody>\n",
       "</table>\n",
       "</div>"
      ],
      "text/plain": [
       "SecuritiesCode      1413      8806\n",
       "Date                              \n",
       "2022-04-15       27900.0   68500.0\n",
       "2022-04-18       54700.0   49700.0\n",
       "2022-04-19       38900.0   76000.0\n",
       "2022-04-20       33600.0   74900.0\n",
       "2022-04-21       50100.0  113700.0\n",
       "2022-04-22      114700.0   12200.0\n",
       "2022-04-25           NaN  104400.0\n",
       "2022-04-26           NaN       NaN\n",
       "2022-04-27           NaN       NaN\n",
       "2022-04-28           NaN       NaN"
      ]
     },
     "execution_count": 19,
     "metadata": {},
     "output_type": "execute_result"
    }
   ],
   "source": [
    "#check missing dates for last 2 stocks\n",
    "pd.pivot(prices, index=\"Date\", columns=\"SecuritiesCode\", values=\"Volume\")[[1413, 8806]].tail(10)"
   ]
  },
  {
   "cell_type": "markdown",
   "id": "5b885ada",
   "metadata": {},
   "source": [
    "For 1413, it misses 2022-04-25 to 2022-04-28 data.\n",
    "For 8806, it misses 2022-04-26 to 2022-04-28 data."
   ]
  },
  {
   "cell_type": "markdown",
   "id": "8b28ae71",
   "metadata": {},
   "source": [
    "# Adding more features"
   ]
  },
  {
   "cell_type": "code",
   "execution_count": 20,
   "id": "37fd4b8a",
   "metadata": {},
   "outputs": [],
   "source": [
    "#MA feature\n",
    "def MA(series, window=25):\n",
    "    return series.rolling(window, min_periods=1).mean()\n",
    "#DMA feature\n",
    "#A displaced moving average (DMA) is any moving average (MA) that has all its values shifted forward (positive displacement) \n",
    "#or back (negative displacement) in time\n",
    "def DMA(series, window=25):\n",
    "    return series/MA(series, window) - 1\n",
    "#divergence feature\n",
    "def divergence(series, window=25):\n",
    "    std = series.rolling(window,min_periods=1).std()\n",
    "    mean = series.rolling(window,min_periods=1).mean()\n",
    "    return (series-mean) / std    \n",
    "#rsi feature\n",
    "def rsi(series, n=14):\n",
    "    return (series - series.shift(1)).rolling(n).apply(lambda s:s[s>0].sum()/abs(s).sum())\n",
    "#stochastic feature\n",
    "def stochastic(series, k=14, n=3, m=3):\n",
    "    _min = series.rolling(k).min()\n",
    "    _max = series.rolling(k).max()\n",
    "    _k = (series - _min)/(_max - _min)\n",
    "    _d1 = _k.rolling(n).mean()\n",
    "    _d2 = _d1.rolling(m).mean()\n",
    "    return pd.DataFrame({\n",
    "                    \"%K\":_k,\n",
    "                    \"FAST-%D\":_d1,\n",
    "                    \"SLOW-%D\":_d2,\n",
    "                    },index=series.index)\n",
    "    # return _k, _d1, _d2\n",
    "#psy feature\n",
    "def psy(series, n=14):\n",
    "    return (series - series.shift(1)).rolling(n).apply(lambda s:(s>=0).mean())\n",
    "#ICH feature\n",
    "def ICH(series):\n",
    "    conv = series.rolling(9).apply(lambda s:(s.max()+s.min())/2)\n",
    "    base = series.rolling(26).apply(lambda s:(s.max()+s.min())/2)\n",
    "    pre1 = ((conv + base)/2).shift(25)\n",
    "    pre2 = d.Close_adj.rolling(52).apply(lambda s:(s.max()+s.min())/2).shift(25)\n",
    "    lagg = d.Close_adj.shift(25)\n",
    "    return conv, base, pre1, pre2, lagg\n",
    "#roc feature\n",
    "def roc(series, window=14):\n",
    "    return series/series.shift(window) - 1\n",
    "\n",
    "class FeatureBase():\n",
    "    def create_feature(self, d):\n",
    "        assert False, \"NotImplemented\"\n",
    "        \n",
    "class MAFeature(FeatureBase):\n",
    "    def create_feature(self, d):\n",
    "        return self._create_feature(d[\"Close_adj\"])\n",
    "\n",
    "    def _create_feature(self, series, window1=5, window2=25):\n",
    "        ma1 = MA(series, window1).rename(\"MA1\")\n",
    "        ma2 = MA(series, window2).rename(\"MA2\")\n",
    "        diff = ma1 - ma2\n",
    "        cross = pd.Series(\n",
    "                        np.where((diff>0) & (diff<0).shift().fillna(False), 1,\n",
    "                            np.where((diff<0) & (diff>0).shift().fillna(False), -1, 0\n",
    "                                )\n",
    "                        ),\n",
    "                        index = series.index, name=\"MA_Cross\"\n",
    "                )\n",
    "        return pd.concat([ma1, ma2, cross], axis=1)"
   ]
  },
  {
   "cell_type": "code",
   "execution_count": 23,
   "id": "0cd22af5",
   "metadata": {},
   "outputs": [],
   "source": [
    "def holiday(d):\n",
    "    return pd.DataFrame({\n",
    "        \"before_holiday\":(d[\"Date\"] != d[\"Date\"].shift(-1) - datetime.timedelta(days=1)) | (d[\"weekday\"]==4),\n",
    "        \"after_holiday\":(d[\"Date\"] != d[\"Date\"].shift(1) + datetime.timedelta(days=1)) | (d[\"weekday\"]==0)\n",
    "    }, index=d.index)\n",
    "def make_features(df):\n",
    "    df = df[[\n",
    "        \"Date\",\"SecuritiesCode\",\"Open\",\"Close\",\"AdjustmentFactor\",\n",
    "        \"Volume\"\n",
    "    ]].copy()\n",
    "    df[\"weekday\"] = df[\"Date\"].dt.weekday\n",
    "    df = df.join(df.groupby(\"SecuritiesCode\").apply(holiday))\n",
    "    df[\"Volume_ratio\"] = df[\"Volume\"]/df.groupby(\"SecuritiesCode\")[\"Volume\"].rolling(window=15, min_periods=1).mean().reset_index(\"SecuritiesCode\",drop=True)\n",
    "    df[\"Close_adj\"] = df.groupby(\"SecuritiesCode\").apply(lambda d:d[\"Close\"]/d[\"AdjustmentFactor\"].cumprod().shift().fillna(1)).reset_index(\"SecuritiesCode\",drop=True)\n",
    "    df[[\"MA1\", \"MA2\", \"MA_Cross\"]] = df.groupby(\"SecuritiesCode\").apply(lambda d: MAFeature()._create_feature(d.Close_adj))# .join(df[\"Target\"].shift(-1)).groupby(\"MA_Cross\").describe()\n",
    "    df[\"Diff\"] = (df[\"Close\"] - df[\"Open\"]) / df[[\"Close\",\"Open\"]].mean(axis=1)\n",
    "    df[\"Diff_MA1\"] = df[\"Close_adj\"] - df[\"MA1\"]\n",
    "    df[\"Diff_MA2\"] = df[\"Close_adj\"] - df[\"MA2\"]\n",
    "    for i in range(1, 3):\n",
    "        df[\"MA_Cross_lag_{:}\".format(i)] = df.groupby(\"SecuritiesCode\")[\"MA_Cross\"].shift(i)\n",
    "\n",
    "    df[\"DivMA\"] = df.groupby(\"SecuritiesCode\")[\"Close_adj\"].apply(DMA)\n",
    "    df[\"Div\"] = df.groupby(\"SecuritiesCode\")[\"Close_adj\"].apply(divergence)\n",
    "    df[\"Rsi\"] = df.groupby(\"SecuritiesCode\")[\"Close_adj\"].apply(rsi)\n",
    "    df = df.join(df.groupby(\"SecuritiesCode\")[\"Close_adj\"].apply(stochastic))\n",
    "    return df"
   ]
  },
  {
   "cell_type": "code",
   "execution_count": 24,
   "id": "c54e9920",
   "metadata": {},
   "outputs": [],
   "source": [
    "df = make_features(prices).join(prices.Target)"
   ]
  },
  {
   "cell_type": "code",
   "execution_count": 32,
   "id": "fc16417f",
   "metadata": {},
   "outputs": [
    {
     "data": {
      "text/plain": [
       "Index(['Date', 'SecuritiesCode', 'Open', 'Close', 'AdjustmentFactor', 'Volume',\n",
       "       'weekday', 'before_holiday', 'after_holiday', 'Volume_ratio',\n",
       "       'Close_adj', 'MA1', 'MA2', 'MA_Cross', 'Diff', 'Diff_MA1', 'Diff_MA2',\n",
       "       'MA_Cross_lag_1', 'MA_Cross_lag_2', 'DivMA', 'Div', 'Rsi', '%K',\n",
       "       'FAST-%D', 'SLOW-%D', 'Target'],\n",
       "      dtype='object')"
      ]
     },
     "execution_count": 32,
     "metadata": {},
     "output_type": "execute_result"
    }
   ],
   "source": [
    "df.columns"
   ]
  },
  {
   "cell_type": "code",
   "execution_count": 29,
   "id": "4894d821",
   "metadata": {},
   "outputs": [
    {
     "name": "stdout",
     "output_type": "stream",
     "text": [
      "Writing file.  \"./data/supplemental_files\\stock_prices_with_features.csv\"\n"
     ]
    }
   ],
   "source": [
    "# save the data to a new csv file\n",
    "datapath = './data/supplemental_files'\n",
    "save_file(df, 'stock_prices_with_features.csv', datapath)"
   ]
  },
  {
   "cell_type": "code",
   "execution_count": null,
   "id": "c90d6a56",
   "metadata": {},
   "outputs": [],
   "source": []
  }
 ],
 "metadata": {
  "kernelspec": {
   "display_name": "Python 3 (ipykernel)",
   "language": "python",
   "name": "python3"
  },
  "language_info": {
   "codemirror_mode": {
    "name": "ipython",
    "version": 3
   },
   "file_extension": ".py",
   "mimetype": "text/x-python",
   "name": "python",
   "nbconvert_exporter": "python",
   "pygments_lexer": "ipython3",
   "version": "3.9.7"
  }
 },
 "nbformat": 4,
 "nbformat_minor": 5
}
