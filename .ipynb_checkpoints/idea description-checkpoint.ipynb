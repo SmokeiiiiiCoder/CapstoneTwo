{
 "cells": [
  {
   "cell_type": "markdown",
   "id": "df634397",
   "metadata": {},
   "source": [
    "# JPX Tokyo Stock Exchange Prediction\n",
    "\n",
    "The idea of this capstone is to predict JPX tokyo stock exchange. As we all know the pricinple of trading is buying at a low price, and selling at a high price. In this capstone, prediction of a single day best performance 10 stocks will be returned. And all data is provided by kaggle."
   ]
  },
  {
   "cell_type": "markdown",
   "id": "394ac1f0",
   "metadata": {},
   "source": [
    "# Residential Property Prices Prediction for Japan\n",
    "Another idea of this capstone is to predict house price for Japan. The property price is depend on real market. There are a lot stuff could effect property price. In this capstone, prediction of next one or few seasons property price will be done. And all data is provided by fred economic data on website of https://fred.stlouisfed.org/series/QJPN628BIS"
   ]
  }
 ],
 "metadata": {
  "kernelspec": {
   "display_name": "Python 3 (ipykernel)",
   "language": "python",
   "name": "python3"
  },
  "language_info": {
   "codemirror_mode": {
    "name": "ipython",
    "version": 3
   },
   "file_extension": ".py",
   "mimetype": "text/x-python",
   "name": "python",
   "nbconvert_exporter": "python",
   "pygments_lexer": "ipython3",
   "version": "3.9.7"
  }
 },
 "nbformat": 4,
 "nbformat_minor": 5
}
